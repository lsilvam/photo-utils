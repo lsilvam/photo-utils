{
 "cells": [
  {
   "cell_type": "markdown",
   "metadata": {},
   "source": [
    "# This is a scrip to compress .jpeg files\n",
    "\n",
    "This script should be run in the folder where the original uncompressed files are. \n",
    "The name of the folder will be used to rename the compressed files in sequential order. \n",
    "Two new folders will be created: \n",
    "- `\\kofi` contains compressed photos with the same resolution as the original photo if size is above > 24.8 mb; otherwise it will just copy and rename following project name \n",
    "- `\\socials` contains photos with lower resolution set by the variable  `img_max_dim` \n",
    "\n",
    "In the project folder will be added a .csv file with a summary of the compression applyed to each photo, if any."
   ]
  },
  {
   "cell_type": "code",
   "execution_count": null,
   "metadata": {},
   "outputs": [],
   "source": [
    "# import libraries\n",
    "from PIL import Image\n",
    "import os\n",
    "import shutil\n",
    "import csv\n",
    "import pandas as pd\n",
    "\n",
    "## set constants\n",
    "Image.MAX_IMAGE_PIXELS = 1000000000  # set the limit to 1 billion pixels to support large files \n",
    "\n",
    "## set user defined variables\n",
    "year = 2022 # year to be used in the file name\n",
    "max_size = 24.8 # megabytes\n",
    "initial_quality = 100 # arbitrary units from 0-100\n",
    "folder_01 = \"kofi\" # name of new folder_01\n",
    "folder_02 = \"socials\" # name of new folder_02\n",
    "img_max_dim = 860 #pixels, set the maximum size for the resized images for folder_02"
   ]
  },
  {
   "cell_type": "markdown",
   "metadata": {},
   "source": [
    "## Create a function to compress images"
   ]
  },
  {
   "cell_type": "code",
   "execution_count": null,
   "metadata": {},
   "outputs": [],
   "source": [
    "# function compress_image\n",
    "## agrs: image_path, max_size, new_file_path \n",
    "## returns: original_size, new_file_path, quality, new_filesize\n",
    "def compress_image(image_path, max_size, new_file_path):\n",
    "    # initial check to avoid future errors\n",
    "    if not os.path.exists(image_path):\n",
    "        raise FileNotFoundError(f\"{image_path} does not exist\")\n",
    "    if not os.path.isfile(image_path):\n",
    "        raise ValueError(f\"{image_path} is not a file\")\n",
    "    if not image_path.endswith(('.jpeg', '.jpg')):\n",
    "        raise ValueError(f\"{image_path} is not a valid image file\")\n",
    "    try:\n",
    "        image = Image.open(image_path)\n",
    "    except Exception as e:\n",
    "        raise ValueError(f\"Unable to open {image_path}: {e}\")\n",
    "    original_size = round(os.path.getsize(image_path) / 1024 / 1024,3)\n",
    "    quality = initial_quality # arg: quality in save function\n",
    "    # compare the imgage size to the threshold to compress\n",
    "    if original_size <= max_size:\n",
    "        # if < then only copy and rename\n",
    "        new_filesize = original_size\n",
    "        shutil.copy2(image_path, new_file_path)\n",
    "        return original_size,new_file_path, quality, new_filesize\n",
    "    else:\n",
    "        # if > then iterate by subtracting 1 to the quality variable that start at 100\n",
    "        while original_size > max_size:  \n",
    "            EXIF = image.getexif()\n",
    "            image.save(new_file_path, optimize=True, quality=quality, exif= EXIF)\n",
    "            new_filesize= round(os.path.getsize(new_file_path) / 1024 / 1024,3)\n",
    "            quality -= 1\n",
    "            if new_filesize <= max_size:\n",
    "                break\n",
    "        return original_size,new_file_path, quality, new_filesize"
   ]
  },
  {
   "cell_type": "markdown",
   "metadata": {},
   "source": [
    "## Run function in the current folder"
   ]
  },
  {
   "cell_type": "code",
   "execution_count": null,
   "metadata": {},
   "outputs": [],
   "source": [
    "folder_path = os.getcwd() # get current folder path\n",
    "project_name = os.path.basename(folder_path) # get name of current folder == project folder\n",
    "# check existance of folder_01, if does not exist then create new folder_01 \n",
    "new_folder_path = os.path.join(folder_path, folder_01)\n",
    "if not os.path.exists(new_folder_path):\n",
    "    os.makedirs(new_folder_path)\n",
    "\n",
    "i = 1 # iterator for sequential naming\n",
    "# create empty table to export later\n",
    "table_data = [['original_filename', 'new_filename','original_filesize', 'new_filesize', 'compression']]\n",
    "# interate all the images in the folder\n",
    "for filename in os.listdir(folder_path):\n",
    "    if filename.endswith(('.jpeg', '.jpg')):\n",
    "        file_path = os.path.join(folder_path, filename)\n",
    "        # create new file name `YYY_ParentFolder_0`\n",
    "        new_filename = str(year) + \"_\" + project_name + '_0' + str(i) + '.' + filename.split('.')[1]\n",
    "        i += 1 \n",
    "        new_file_path = os.path.join(new_folder_path, new_filename)\n",
    "        original_size, new_file_path, quality, new_filesize = compress_image(file_path, max_size, new_file_path)\n",
    "        table_data.append([filename, original_size, new_filename, new_filesize, quality])\n",
    "# create a new path variable with path from folder_01 to be used later\n",
    "path_processed_images = new_folder_path"
   ]
  },
  {
   "cell_type": "markdown",
   "metadata": {},
   "source": [
    "### Table with modified images"
   ]
  },
  {
   "cell_type": "code",
   "execution_count": null,
   "metadata": {},
   "outputs": [],
   "source": [
    "# export table to csv file\n",
    "with open(os.path.join(folder_path, project_name + '_exported_images.csv'), 'w') as f:\n",
    "    writer = csv.writer(f)\n",
    "    writer.writerows(table_data)\n",
    "# create pandas DataFrame from table data and display formatted table\n",
    "df = pd.DataFrame(table_data[1:], columns=table_data[0])\n",
    "display(df.style.hide_index())"
   ]
  },
  {
   "cell_type": "markdown",
   "metadata": {},
   "source": [
    "## Create thumbnail/social media sized images "
   ]
  },
  {
   "cell_type": "code",
   "execution_count": null,
   "metadata": {},
   "outputs": [],
   "source": [
    "# Create the new folder_02 if it doesn't already exist\n",
    "new_folder_path = os.path.join(folder_path, folder_02)\n",
    "if not os.path.exists(new_folder_path):\n",
    "    os.makedirs(new_folder_path)\n",
    "\n",
    "# Loop through the image files in the original folder\n",
    "for filename in os.listdir(path_processed_images):\n",
    "    if filename.endswith(('.jpeg', '.jpg', '.png')):\n",
    "        file_path = os.path.join(path_processed_images, filename)\n",
    "        \n",
    "        # Open the image file and calculate the new size\n",
    "        with Image.open(file_path) as img:\n",
    "            width, height = img.size\n",
    "            ratio = min(img_max_dim / width, img_max_dim / height)\n",
    "            new_size = (int(width * ratio), int(height * ratio))\n",
    "            EXIF = img.getexif()\n",
    "            # Resize the image while maintaining its aspect ratio\n",
    "            img = img.resize(new_size, Image.ANTIALIAS)\n",
    "            \n",
    "            # Save the resized image to the new folder\n",
    "            new_file_path = os.path.join(new_folder_path, filename)\n",
    "            img.save(new_file_path,exif=EXIF)"
   ]
  },
  {
   "cell_type": "markdown",
   "metadata": {},
   "source": [
    "All done. "
   ]
  }
 ],
 "metadata": {
  "kernelspec": {
   "display_name": "base",
   "language": "python",
   "name": "python3"
  },
  "language_info": {
   "codemirror_mode": {
    "name": "ipython",
    "version": 3
   },
   "file_extension": ".py",
   "mimetype": "text/x-python",
   "name": "python",
   "nbconvert_exporter": "python",
   "pygments_lexer": "ipython3",
   "version": "3.9.16"
  },
  "orig_nbformat": 4
 },
 "nbformat": 4,
 "nbformat_minor": 2
}
